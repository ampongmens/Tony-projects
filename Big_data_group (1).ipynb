{
  "nbformat": 4,
  "nbformat_minor": 0,
  "metadata": {
    "colab": {
      "provenance": []
    },
    "kernelspec": {
      "name": "python3",
      "display_name": "Python 3"
    },
    "language_info": {
      "name": "python"
    }
  },
  "cells": [
    {
      "cell_type": "markdown",
      "source": [
        "**Bank Financial Statements Analysis**"
      ],
      "metadata": {
        "id": "zHxJopMzfij0"
      }
    },
    {
      "cell_type": "markdown",
      "source": [
        "Team 18 - Anthony Mensah, Andrew Lagattuta, Tian Lu, Clay McCollum"
      ],
      "metadata": {
        "id": "5N_MMrK6a9wg"
      }
    },
    {
      "cell_type": "markdown",
      "source": [
        "**Spark SQL**"
      ],
      "metadata": {
        "id": "oSOA4Tr1ayqR"
      }
    },
    {
      "cell_type": "markdown",
      "source": [
        "Installing Necessary Packages\n"
      ],
      "metadata": {
        "id": "Mtoj-LDddTWI"
      }
    },
    {
      "cell_type": "code",
      "source": [
        "!pip install pyspark"
      ],
      "metadata": {
        "colab": {
          "base_uri": "https://localhost:8080/"
        },
        "id": "Oqv8PeGKT-Jt",
        "outputId": "cc961bb0-7d45-4c96-d971-34b733ff22a2"
      },
      "execution_count": null,
      "outputs": [
        {
          "output_type": "stream",
          "name": "stdout",
          "text": [
            "Looking in indexes: https://pypi.org/simple, https://us-python.pkg.dev/colab-wheels/public/simple/\n",
            "Collecting pyspark\n",
            "  Downloading pyspark-3.4.0.tar.gz (310.8 MB)\n",
            "\u001b[2K     \u001b[90m━━━━━━━━━━━━━━━━━━━━━━━━━━━━━━━━━━━━━━━\u001b[0m \u001b[32m310.8/310.8 MB\u001b[0m \u001b[31m3.9 MB/s\u001b[0m eta \u001b[36m0:00:00\u001b[0m\n",
            "\u001b[?25h  Preparing metadata (setup.py) ... \u001b[?25l\u001b[?25hdone\n",
            "Requirement already satisfied: py4j==0.10.9.7 in /usr/local/lib/python3.9/dist-packages (from pyspark) (0.10.9.7)\n",
            "Building wheels for collected packages: pyspark\n",
            "  Building wheel for pyspark (setup.py) ... \u001b[?25l\u001b[?25hdone\n",
            "  Created wheel for pyspark: filename=pyspark-3.4.0-py2.py3-none-any.whl size=311317145 sha256=05981070d5ab52439b6869f7d006b0ea1a557cc362996ccdca658b92e772fcc6\n",
            "  Stored in directory: /root/.cache/pip/wheels/9f/34/a4/159aa12d0a510d5ff7c8f0220abbea42e5d81ecf588c4fd884\n",
            "Successfully built pyspark\n",
            "Installing collected packages: pyspark\n",
            "Successfully installed pyspark-3.4.0\n"
          ]
        }
      ]
    },
    {
      "cell_type": "code",
      "source": [
        "import pyspark\n",
        "from pyspark.sql import SparkSession\n"
      ],
      "metadata": {
        "id": "Wtcl7H_vUKgM"
      },
      "execution_count": null,
      "outputs": []
    },
    {
      "cell_type": "markdown",
      "source": [
        "Read in Bank Data"
      ],
      "metadata": {
        "id": "w30zquaSdZ_o"
      }
    },
    {
      "cell_type": "code",
      "source": [
        "#this line allocates memory to our spark cluster to see all rows, otherwise we only load a fraction of the dataset\n",
        "spark = SparkSession.builder.appName(\"MyApp\").config(\"spark.executor.memory\", \"4g\").config(\"spark.executor.memoryOverhead\", \"2g\").config(\"spark.driver.memory\", \"2g\").getOrCreate()"
      ],
      "metadata": {
        "id": "IWJ31K1verr0"
      },
      "execution_count": null,
      "outputs": []
    },
    {
      "cell_type": "code",
      "source": [
        "bank_df = spark.read.csv(\"CRwithInterestRate.csv\", header=True, inferSchema = True)"
      ],
      "metadata": {
        "id": "EQ8ZtnEBUM45"
      },
      "execution_count": null,
      "outputs": []
    },
    {
      "cell_type": "code",
      "source": [
        "#show full length of bank names  .show(truncate=False)\n",
        "\n",
        "#spark.conf.set(\"spark.sql.repl.eagerEval.maxNumRows\", 10000)\n",
        "spark.conf.set(\"spark.sql.repl.eagerEval.truncate\", 10000)\n"
      ],
      "metadata": {
        "id": "gjCKNM6LqZY3"
      },
      "execution_count": null,
      "outputs": []
    },
    {
      "cell_type": "code",
      "source": [
        "bank_df.createOrReplaceTempView('Bank_Data')"
      ],
      "metadata": {
        "id": "Bfr0XlEIhYcv"
      },
      "execution_count": null,
      "outputs": []
    },
    {
      "cell_type": "markdown",
      "source": [
        "Preview the Data"
      ],
      "metadata": {
        "id": "wNhSFQLOdluz"
      }
    },
    {
      "cell_type": "code",
      "source": [
        "bank_df.show(5)"
      ],
      "metadata": {
        "colab": {
          "base_uri": "https://localhost:8080/"
        },
        "id": "XJvi-cGmUoIl",
        "outputId": "f609f1bc-8b94-4df6-887d-4d9c483d5c00"
      },
      "execution_count": null,
      "outputs": [
        {
          "output_type": "stream",
          "name": "stdout",
          "text": [
            "+----------+-------------------------+-------+-----------------------+------------------+-----------------+--------------------------+--------------------------+-----------------------------+--------------------------+---------------------------+------------------------------+---------------------------------+------------------------------------+--------+--------+--------+--------+--------+--------+--------+--------+--------+--------+--------+--------+--------+--------+--------+--------+--------+--------+--------+--------+--------+--------+--------+--------+--------+--------+--------+--------+--------+--------+--------+--------+--------+--------+--------+--------+--------+--------+--------+--------+--------+--------+--------+--------+--------+--------+--------+--------+--------+--------+--------+--------+--------+--------+--------+--------+--------+--------+--------+--------+--------+--------+--------+--------+--------+--------+--------+--------+--------+--------+--------+--------+--------+--------+--------+--------+--------+--------+--------+--------+--------+--------+--------+--------+--------+--------+--------+--------+--------+--------+--------+--------+--------+--------+--------+--------+--------+--------+--------+--------+--------+--------+--------+--------+--------+--------+--------+--------+--------+--------+--------+--------+--------+--------+--------+--------+----+----------+----------+-----------------+\n",
            "|Unnamed: 0|Reporting.Period.End.Date| IDRSSD|FDIC.Certificate.Number|OCC.Charter.Number|OTS.Docket.Number|Primary.ABA.Routing.Number|Financial.Institution.Name|Financial.Institution.Address|Financial.Institution.City|Financial.Institution.State|Financial.Institution.Zip.Code|Financial.Institution.Filing.Type|Last.Date.Time.Submission.Updated.On|RCFD6724|RCON0071|RCON0081|RCON1226|RCON1227|RCON1228|RCON1606|RCON1607|RCON1608|RCON1773|RCON2130|RCON2145|RCON2150|RCON2160|RCON2170|RCON2200|RCON2930|RCON2948|RCON3000|RCON3123|RCON3190|RCON3200|RCON3210|RCON3230|RCON3300|RCON3493|RCON3494|RCON3495|RCON3499|RCON3500|RCON3501|RCON3505|RCON3506|RCON3507|RCON3545|RCON3548|RCON3632|RCON3838|RCON3839|RCON5369|RCON5398|RCON5399|RCON5400|RCON5459|RCON5460|RCON5461|RCON6558|RCON6559|RCON6560|RCON6631|RCON6636|RCON6724|RCON8678|RCONA130|RCONB528|RCONB529|RCONB530|RCONB575|RCONB576|RCONB577|RCONB834|RCONB835|RCONB836|RCONB987|RCONB989|RCONB993|RCONB995|RCONC229|RCONC230|RCONC236|RCONC237|RCONC238|RCONC239|RIAD0093|RIAD3196|RIAD3521|RIAD4010|RIAD4012|RIAD4020|RIAD4058|RIAD4060|RIAD4065|RIAD4070|RIAD4073|RIAD4074|RIAD4079|RIAD4080|RIAD4092|RIAD4093|RIAD4107|RIAD4115|RIAD4135|RIAD4150|RIAD4180|RIAD4217|RIAD4300|RIAD4301|RIAD4302|RIAD4313|RIAD4340|RIAD4507|RIAD4508|RIAD4518|RIAD5415|RIAD5416|RIAD9106|RIADA530|RIADB485|RIADB486|RIADB488|RIADB489|RIADB492|RIADB496|RIADB497|RIADC216|RIADC232|Year|   newdate|      DATE|         FEDFUNDS|\n",
            "+----------+-------------------------+-------+-----------------------+------------------+-----------------+--------------------------+--------------------------+-----------------------------+--------------------------+---------------------------+------------------------------+---------------------------------+------------------------------------+--------+--------+--------+--------+--------+--------+--------+--------+--------+--------+--------+--------+--------+--------+--------+--------+--------+--------+--------+--------+--------+--------+--------+--------+--------+--------+--------+--------+--------+--------+--------+--------+--------+--------+--------+--------+--------+--------+--------+--------+--------+--------+--------+--------+--------+--------+--------+--------+--------+--------+--------+--------+--------+--------+--------+--------+--------+--------+--------+--------+--------+--------+--------+--------+--------+--------+--------+--------+--------+--------+--------+--------+--------+--------+--------+--------+--------+--------+--------+--------+--------+--------+--------+--------+--------+--------+--------+--------+--------+--------+--------+--------+--------+--------+--------+--------+--------+--------+--------+--------+--------+--------+--------+--------+--------+--------+--------+--------+--------+--------+--------+--------+--------+--------+--------+--------+----+----------+----------+-----------------+\n",
            "|    437957|               2001-03-31| 324751|                    498|                 0|                0|                  91406053|      FIRST STATE BANK ...|                     MAIN ST.|                     SINAI|                         SD|                         57061|                               41|                 2005-07-12 21:51:43|    null|   683.0|   396.0|     0.0|     0.0|     0.0|     9.0|     0.0|     0.0|   767.0|     0.0|   168.0|     0.0|   463.0| 16465.0| 13812.0|   258.0| 14070.0|     0.0|   211.0|     0.0|     0.0|  2395.0|    25.0| 16465.0|       0|       0|       0|       0|       0|       0|     0.0|     0.0|     0.0|     0.0|     0.0|  1868.0|     0.0|   500.0|     0.0|       0|       0|       0|    98.0|     8.0|   162.0|     0.0|     0.0|     0.0|     943|   12869|     1.0|    null|     0.0| 12939.0| 12728.0|     2.0|     0.0|     0.0|     0.0|     0.0|     0.0|     0.0|    null|    null|    null|    null|    null|    null|    null|    null|    null|    null|       2|       0|       0|     286|    null|       7|    null|       5|       0|       0|     162|     162|      13|       9|      31|     110|     324|       9|      70|       5|       0|       9|      38|      55|    17.0|       1|      38|       5|       6|     0.0|       0|     0.0|     0.0|   false|    null|    null|      12|       5|       0|     0.0|       4|    null|    null|2001|2001-03-31|2001-04-01|4.326666666666666|\n",
            "|    415365|               2001-03-31|2502825|                  34331|             23097|                0|                 102050026|        DSRM NATIONAL BANK|         5801 OSUNA ROAD N.E.|               ALBUQUERQUE|                         NM|                         87109|                               41|                 2005-07-12 21:51:43|    null|   243.0|   194.0|     0.0|     0.0|     0.0|     0.0|     0.0|     0.0|     0.0|     0.0|     0.0|     0.0|   100.0|  2865.0|   500.0|   154.0|   654.0|     0.0|     0.0|     0.0|     0.0|  2211.0|  1000.0|  2865.0|       0|       0|       0|       0|       0|       0|     0.0|     0.0|     0.0|     0.0|     0.0|   211.0|     0.0|  1000.0|     0.0|       0|       0|       0|     0.0|     0.0|     0.0|     0.0|     0.0|     0.0|       0|     500|     1.0|    null|     0.0|     0.0|     0.0|     0.0|     0.0|     0.0|     0.0|     0.0|     0.0|     0.0|    null|    null|    null|    null|    null|    null|    null|    null|    null|    null|       0|       0|       0|       0|    null|       0|    null|       0|       0|       0|       5|      36|     110|       0|      31|     105|      41|       5|      68|       7|       0|       6|      25|      41|    16.0|       0|      25|       0|       0|     0.0|       0|     0.0|     0.0|   false|    null|    null|      13|      23|       0|     0.0|     110|    null|    null|2001|2001-03-31|2001-04-01|4.326666666666666|\n",
            "|    429607|               2001-03-31| 439141|                  12129|                 0|            17390|                  73916477|      WEST BURLINGTON BANK|         101 BROADWAY P O ...|           WEST BURLINGTON|                         IA|                     526550100|                               41|                 2005-07-12 21:51:43|    null|   396.0|  1447.0|     0.0|     0.0|     0.0|   154.0|    13.0|     0.0| 17665.0|     0.0|  1027.0|     0.0|   775.0| 52259.0| 45804.0|   226.0| 47156.0|     0.0|   223.0|     0.0|     0.0|  5103.0|    93.0| 52259.0|      82|       0|       0|     447|       0|       0|     0.0|     0.0|     0.0|     0.0|     0.0|  2758.0|     0.0|  1900.0|     0.0|       0|       0|       0|     0.0|     0.0|     0.0|     0.0|     0.0|     0.0|    5780|   40024|     4.0|    null|     0.0| 28407.0| 28184.0|   352.0|     0.0|     0.0|     0.0|     0.0|     0.0|     0.0|    null|    null|    null|    null|    null|    null|    null|    null|    null|    null|      92|       0|       0|     574|   129.0|      22|     0.0|      90|       0|       0|     435|     459|     171|      67|     211|     529|     894|       5|     244|      25|      14|      74|      84|      92|     8.0|       7|      84|      43|      47|     0.0|       0|     0.0|     0.0|    true|     0.0|    83.0|     170|      33|       0|     1.0|      18|    null|    null|2001|2001-03-31|2001-04-01|4.326666666666666|\n",
            "|    415370|               2001-03-31| 385547|                  11463|                 0|                0|                 101205445|      CITIZENS-FARMERS ...|         121 EAST MAIN STREET|                 COLE CAMP|                         MO|                         65325|                               41|                 2005-07-12 21:51:43|    null|   100.0|  2232.0|     0.0|     0.0|     0.0|   196.0|     0.0|    46.0|  8879.0|     0.0|   308.0|   154.0|   798.0| 58948.0| 47455.0|   535.0| 47990.0|     0.0|   457.0|     0.0|     0.0| 10958.0|    50.0| 58948.0|      57|       0|       0|       0|       0|       0|     0.0|     0.0|     0.0|     0.0|     0.0| 10580.0|     0.0|   200.0|     0.0|       0|       0|       0|   252.0|     0.0|    96.0|     0.0|     0.0|     0.0|    5781|   41674|     8.0|    null|     0.0| 37413.0| 36956.0|   128.0|     0.0|     0.0|     0.0|     0.0|     0.0|     0.0|    null|    null|    null|    null|    null|    null|    null|    null|    null|    null|      34|       0|       0|     815|    68.0|      35|   159.0|      73|       0|       0|     513|     583|      62|      51|      92|     279|    1096|       2|     171|      19|       0|      16|     244|     354|   110.0|       0|     244|      66|      40|     4.0|       0|     0.0|     0.0|   false|     0.0|    96.0|     142|      25|       0|     0.0|      11|    null|    null|2001|2001-03-31|2001-04-01|4.326666666666666|\n",
            "|    429605|               2001-03-31| 177135|                  22549|                 0|                0|                  62103000|      FIRST PROGRESSIVE...|                   312 SOWELL|                   BREWTON|                         AL|                         36426|                               41|                 2005-07-12 21:51:43|    null|     0.0|   846.0|     0.0|     0.0|     0.0|     0.0|     0.0|     0.0|     0.0|     0.0|   226.0|   264.0|   395.0| 24694.0| 17696.0|   206.0| 17902.0|     0.0|   159.0|     0.0|     0.0|  6792.0|   500.0| 24694.0|       0|       0|       0|       0|       0|       0|     0.0|     0.0|     0.0|     0.0|     0.0|  5692.0|     0.0|   600.0|     0.0|       0|       0|       0|     0.0|     0.0|     0.0|     0.0|     0.0|     0.0|    5423|   12273|     1.0|    null|     0.0|  7865.0|  7706.0|     0.0|     0.0|     0.0|     0.0|     0.0|     0.0|     0.0|    null|    null|    null|    null|    null|    null|    null|    null|    null|    null|      12|       0|       0|     154|    67.0|      47|     0.0|      33|       0|       0|     154|     221|      14|      13|      77|     182|     375|       0|      85|      13|       0|      20|      39|      50|    11.0|       0|      39|      33|       0|     0.0|       0|     0.0|     0.0|   false|     0.0|     4.0|     141|       0|       0|     0.0|       1|    null|    null|2001|2001-03-31|2001-04-01|4.326666666666666|\n",
            "+----------+-------------------------+-------+-----------------------+------------------+-----------------+--------------------------+--------------------------+-----------------------------+--------------------------+---------------------------+------------------------------+---------------------------------+------------------------------------+--------+--------+--------+--------+--------+--------+--------+--------+--------+--------+--------+--------+--------+--------+--------+--------+--------+--------+--------+--------+--------+--------+--------+--------+--------+--------+--------+--------+--------+--------+--------+--------+--------+--------+--------+--------+--------+--------+--------+--------+--------+--------+--------+--------+--------+--------+--------+--------+--------+--------+--------+--------+--------+--------+--------+--------+--------+--------+--------+--------+--------+--------+--------+--------+--------+--------+--------+--------+--------+--------+--------+--------+--------+--------+--------+--------+--------+--------+--------+--------+--------+--------+--------+--------+--------+--------+--------+--------+--------+--------+--------+--------+--------+--------+--------+--------+--------+--------+--------+--------+--------+--------+--------+--------+--------+--------+--------+--------+--------+--------+--------+--------+--------+--------+--------+--------+----+----------+----------+-----------------+\n",
            "only showing top 5 rows\n",
            "\n"
          ]
        }
      ]
    },
    {
      "cell_type": "code",
      "source": [
        "query = ''' SELECT count(*) from Bank_Data '''\n",
        "\n",
        "spark.sql(query).show()"
      ],
      "metadata": {
        "colab": {
          "base_uri": "https://localhost:8080/"
        },
        "id": "OZFzUuonecUY",
        "outputId": "0a49e543-dfc3-4a5b-d0c8-0ab60e9d74b4"
      },
      "execution_count": null,
      "outputs": [
        {
          "output_type": "stream",
          "name": "stdout",
          "text": [
            "+--------+\n",
            "|count(1)|\n",
            "+--------+\n",
            "|  607513|\n",
            "+--------+\n",
            "\n"
          ]
        }
      ]
    },
    {
      "cell_type": "code",
      "source": [
        "query = ''' SELECT distinct Year from Bank_Data order by Year '''\n",
        "\n",
        "spark.sql(query).show()"
      ],
      "metadata": {
        "id": "mW8mZEQbcp6V",
        "colab": {
          "base_uri": "https://localhost:8080/"
        },
        "outputId": "a2d37205-9b63-4179-d193-527b15c2fd6f"
      },
      "execution_count": null,
      "outputs": [
        {
          "output_type": "stream",
          "name": "stdout",
          "text": [
            "+----+\n",
            "|Year|\n",
            "+----+\n",
            "|2001|\n",
            "|2002|\n",
            "|2003|\n",
            "|2004|\n",
            "|2005|\n",
            "|2006|\n",
            "|2007|\n",
            "|2008|\n",
            "|2009|\n",
            "|2010|\n",
            "|2011|\n",
            "|2012|\n",
            "|2013|\n",
            "|2014|\n",
            "|2015|\n",
            "|2016|\n",
            "|2017|\n",
            "|2018|\n",
            "|2019|\n",
            "|2020|\n",
            "+----+\n",
            "only showing top 20 rows\n",
            "\n"
          ]
        }
      ]
    },
    {
      "cell_type": "code",
      "source": [
        "query = ''' DESCRIBE Bank_Data '''\n",
        "\n",
        "spark.sql(query).show(truncate=False)"
      ],
      "metadata": {
        "colab": {
          "base_uri": "https://localhost:8080/"
        },
        "id": "En1qFstaehaL",
        "outputId": "6aa1a816-40d6-4ecd-96bf-970c9f3c7a6a"
      },
      "execution_count": null,
      "outputs": [
        {
          "output_type": "stream",
          "name": "stdout",
          "text": [
            "+------------------------------------+---------+-------+\n",
            "|col_name                            |data_type|comment|\n",
            "+------------------------------------+---------+-------+\n",
            "|Unnamed: 0                          |int      |null   |\n",
            "|Reporting.Period.End.Date           |date     |null   |\n",
            "|IDRSSD                              |int      |null   |\n",
            "|FDIC.Certificate.Number             |int      |null   |\n",
            "|OCC.Charter.Number                  |int      |null   |\n",
            "|OTS.Docket.Number                   |int      |null   |\n",
            "|Primary.ABA.Routing.Number          |int      |null   |\n",
            "|Financial.Institution.Name          |string   |null   |\n",
            "|Financial.Institution.Address       |string   |null   |\n",
            "|Financial.Institution.City          |string   |null   |\n",
            "|Financial.Institution.State         |string   |null   |\n",
            "|Financial.Institution.Zip.Code      |int      |null   |\n",
            "|Financial.Institution.Filing.Type   |int      |null   |\n",
            "|Last.Date.Time.Submission.Updated.On|timestamp|null   |\n",
            "|RCFD6724                            |string   |null   |\n",
            "|RCON0071                            |double   |null   |\n",
            "|RCON0081                            |double   |null   |\n",
            "|RCON1226                            |double   |null   |\n",
            "|RCON1227                            |double   |null   |\n",
            "|RCON1228                            |double   |null   |\n",
            "+------------------------------------+---------+-------+\n",
            "only showing top 20 rows\n",
            "\n"
          ]
        }
      ]
    },
    {
      "cell_type": "markdown",
      "source": [
        "#Queries:"
      ],
      "metadata": {
        "id": "PR9xCJFUdpdt"
      }
    },
    {
      "cell_type": "markdown",
      "source": [
        "###Top 10 quarterly deposits in 2002\n",
        "\n"
      ],
      "metadata": {
        "id": "nenpEmu2dr_h"
      }
    },
    {
      "cell_type": "code",
      "source": [
        "query_1 = '''SELECT `Financial.Institution.Name` as Bank, `Financial.Institution.City` as City, RCON2200 as `Total Deposits` FROM Bank_Data WHERE Year = 2002 ORDER BY RCON2200 DESC LIMIT 10'''\n",
        "\n",
        "\n",
        "# Execute Query 1\n",
        "spark.sql(query_1).show(truncate = False)"
      ],
      "metadata": {
        "colab": {
          "base_uri": "https://localhost:8080/"
        },
        "id": "OOU2DDIUU25N",
        "outputId": "8c4d6f9a-0050-43c7-a4f3-0a7026d1da03"
      },
      "execution_count": null,
      "outputs": [
        {
          "output_type": "stream",
          "name": "stdout",
          "text": [
            "+-------------------------------------+---------+--------------+\n",
            "|Bank                                 |City     |Total Deposits|\n",
            "+-------------------------------------+---------+--------------+\n",
            "|BANK OF AMERICA, NATIONAL ASSOCIATION|CHARLOTTE|3.54961E8     |\n",
            "|BANK OF AMERICA, NATIONAL ASSOCIATION|CHARLOTTE|3.46588E8     |\n",
            "|BANK OF AMERICA, NATIONAL ASSOCIATION|CHARLOTTE|3.35591E8     |\n",
            "|BANK OF AMERICA, NATIONAL ASSOCIATION|CHARLOTTE|3.2623E8      |\n",
            "|WACHOVIA BANK, NATIONAL ASSOCIATION  |CHARLOTTE|1.84231E8     |\n",
            "|WACHOVIA BANK, NATIONAL ASSOCIATION  |CHARLOTTE|1.80446E8     |\n",
            "|WACHOVIA BANK, NATIONAL ASSOCIATION  |CHARLOTTE|1.71788E8     |\n",
            "|JPMORGAN CHASE BANK                  |NEW YORK |1.71786E8     |\n",
            "|JPMORGAN CHASE BANK                  |NEW YORK |1.674E8       |\n",
            "|JPMORGAN CHASE BANK                  |NEW YORK |1.58559E8     |\n",
            "+-------------------------------------+---------+--------------+\n",
            "\n"
          ]
        }
      ]
    },
    {
      "cell_type": "markdown",
      "source": [
        "###Top 10 quarterly deposits in 2022"
      ],
      "metadata": {
        "id": "k-x8H9_LeRJ9"
      }
    },
    {
      "cell_type": "code",
      "source": [
        "query_2 = '''SELECT `Financial.Institution.Name` as Bank, `Financial.Institution.City` as City, RCON2200 as `Total Deposits` FROM Bank_Data WHERE Year = 2022 ORDER BY RCON2200 DESC LIMIT 10'''\n",
        "\n",
        "\n",
        "# Execute Query 2\n",
        "spark.sql(query_2).show(truncate = False)"
      ],
      "metadata": {
        "colab": {
          "base_uri": "https://localhost:8080/"
        },
        "id": "WgVIYpGra6ja",
        "outputId": "eadac37a-36c7-43a2-d65b-fe556bde5755"
      },
      "execution_count": null,
      "outputs": [
        {
          "output_type": "stream",
          "name": "stdout",
          "text": [
            "+-----------------------------------------+-----------+--------------+\n",
            "|Bank                                     |City       |Total Deposits|\n",
            "+-----------------------------------------+-----------+--------------+\n",
            "|JPMORGAN CHASE BANK, NATIONAL ASSOCIATION|COLUMBUS   |2.201118E9    |\n",
            "|JPMORGAN CHASE BANK, NATIONAL ASSOCIATION|COLUMBUS   |2.128462E9    |\n",
            "|JPMORGAN CHASE BANK, NATIONAL ASSOCIATION|COLUMBUS   |2.079331E9    |\n",
            "|BANK OF AMERICA, NATIONAL ASSOCIATION    |CHARLOTTE  |2.040696E9    |\n",
            "|JPMORGAN CHASE BANK, NATIONAL ASSOCIATION|COLUMBUS   |2.014513E9    |\n",
            "|BANK OF AMERICA, NATIONAL ASSOCIATION    |CHARLOTTE  |1.964041E9    |\n",
            "|BANK OF AMERICA, NATIONAL ASSOCIATION    |CHARLOTTE  |1.931589E9    |\n",
            "|BANK OF AMERICA, NATIONAL ASSOCIATION    |CHARLOTTE  |1.929333E9    |\n",
            "|WELLS FARGO BANK, NATIONAL ASSOCIATION   |SIOUX FALLS|1.496763E9    |\n",
            "|WELLS FARGO BANK, NATIONAL ASSOCIATION   |SIOUX FALLS|1.442034E9    |\n",
            "+-----------------------------------------+-----------+--------------+\n",
            "\n"
          ]
        }
      ]
    },
    {
      "cell_type": "markdown",
      "source": [
        "Year over year growth during periods of rising interest rates"
      ],
      "metadata": {
        "id": "LnXrYP0NekXz"
      }
    },
    {
      "cell_type": "code",
      "source": [
        "query = '''SELECT INT(AVG(RCON2170)) AS Avg_Tot_Assets, INT(AVG(RIAD4340)) AS Avg_Net_Income, Year, ROUND(AVG(FEDFUNDS),3) AS Fed_Funds_Rate FROM Bank_Data GROUP BY Year ORDER BY Year ASC'''\n",
        "\n",
        "spark.sql(query).show()\n"
      ],
      "metadata": {
        "id": "bhWu91B2PWBV",
        "colab": {
          "base_uri": "https://localhost:8080/"
        },
        "outputId": "f9b6ea03-b858-4bf2-89da-7cd63bf614ff"
      },
      "execution_count": null,
      "outputs": [
        {
          "output_type": "stream",
          "name": "stdout",
          "text": [
            "+--------------+--------------+----+--------------+\n",
            "|Avg_Tot_Assets|Avg_Net_Income|Year|Fed_Funds_Rate|\n",
            "+--------------+--------------+----+--------------+\n",
            "|        685425|          5593|2001|         2.929|\n",
            "|        750858|          6879|2002|         1.547|\n",
            "|        836967|          7913|2003|         1.066|\n",
            "|        926297|          8305|2004|         1.713|\n",
            "|       1007799|          9152|2005|         3.708|\n",
            "|       1103687|         10329|2006|         5.164|\n",
            "|       1210796|          9248|2007|         4.503|\n",
            "|        419168|          3418|2008|         1.186|\n",
            "|       1454368|         -1446|2009|         0.148|\n",
            "|       1539448|          6751|2010|         0.181|\n",
            "|        463203|         10396|2011|         0.088|\n",
            "|        571534|         12178|2012|          0.15|\n",
            "|        605735|         13932|2013|          0.09|\n",
            "|        659327|         14357|2014|         0.098|\n",
            "|        739298|         16122|2015|         0.194|\n",
            "|        850529|         17323|2016|         0.478|\n",
            "|       1017096|         18960|2017|         1.186|\n",
            "|        966238|         26455|2018|         2.067|\n",
            "|       1013852|         28139|2019|         1.878|\n",
            "|       1140688|         14356|2020|         0.081|\n",
            "+--------------+--------------+----+--------------+\n",
            "only showing top 20 rows\n",
            "\n"
          ]
        }
      ]
    },
    {
      "cell_type": "markdown",
      "source": [
        "The lowest net income is in 2009, so let's examine 2009 further!"
      ],
      "metadata": {
        "id": "PtAoRy7in3MS"
      }
    },
    {
      "cell_type": "markdown",
      "source": [
        "###Banks with the highest net income during 2009 and their loan to deposit ratio\n"
      ],
      "metadata": {
        "id": "TNM9B4tOeu3G"
      }
    },
    {
      "cell_type": "code",
      "source": [
        "query = '''SELECT `Financial.Institution.Name`, RCON2170 AS Tot_Assets, RIAD4340 AS Net_Income, ROUND((RCONB528/RCON2200),3) AS LDR, Year FROM Bank_Data WHERE (Year = 2009 AND (RCONB528/RCON2200) IS NOT NULL AND RCON2200 > 1000) ORDER BY Net_Income DESC LIMIT 20'''\n",
        "spark.sql(query).show(truncate=False)\n",
        "\n"
      ],
      "metadata": {
        "colab": {
          "base_uri": "https://localhost:8080/"
        },
        "id": "Yz8UOhAgNcSU",
        "outputId": "cf7e3700-f342-405a-b204-b317ae733a1a"
      },
      "execution_count": null,
      "outputs": [
        {
          "output_type": "stream",
          "name": "stdout",
          "text": [
            "+----------------------------------------------------+-----------+----------+-----+----+\n",
            "|Financial.Institution.Name                          |Tot_Assets |Net_Income|LDR  |Year|\n",
            "+----------------------------------------------------+-----------+----------+-----+----+\n",
            "|GOLDMAN SACHS BANK USA                              |1.14868E8  |2812000   |0.092|2009|\n",
            "|GOLDMAN SACHS BANK USA                              |1.19678E8  |1686000   |0.105|2009|\n",
            "|GOLDMAN SACHS BANK USA                              |1.61458E8  |1209000   |0.089|2009|\n",
            "|TD BANK USA, NATIONAL ASSOCIATION                   |1.0063018E7|693000    |0.334|2009|\n",
            "|BANK OF AMERICA RHODE ISLAND, NATIONAL ASSOCIATION  |2.3612804E7|642288    |1.223|2009|\n",
            "|WELLS FARGO BANK SOUTH CENTRAL, NATIONAL ASSOCIATION|4.0565E7   |454000    |1.163|2009|\n",
            "|NEW YORK COMMUNITY BANK                             |4.0150052E7|404796    |1.281|2009|\n",
            "|MORGAN STANLEY BANK, N.A.                           |6.6159E7   |399000    |0.091|2009|\n",
            "|MORGAN STANLEY BANK, N.A.                           |6.5487E7   |378000    |0.081|2009|\n",
            "|BEAL BANK NEVADA                                    |5288158.0  |335723    |1.349|2009|\n",
            "|WELLS FARGO BANK SOUTH CENTRAL, NATIONAL ASSOCIATION|2.9652E7   |297000    |1.317|2009|\n",
            "|NEW YORK COMMUNITY BANK                             |3.0848287E7|252823    |1.68 |2009|\n",
            "|METLIFE BANK, NATIONAL ASSOCIATION                  |1.4106965E7|221506    |0.302|2009|\n",
            "|BEAL BANK NEVADA                                    |5742942.0  |212457    |1.001|2009|\n",
            "|MORGAN STANLEY BANK, N.A.                           |6.6238E7   |208000    |0.075|2009|\n",
            "|UBS BANK USA                                        |3.0049614E7|203026    |0.557|2009|\n",
            "|MORGAN STANLEY BANK, N.A.                           |6.5328E7   |201000    |0.066|2009|\n",
            "|IBERIABANK                                          |8114947.0  |183216    |0.739|2009|\n",
            "|TD BANK USA, NATIONAL ASSOCIATION                   |3.3919344E7|173374    |0.09 |2009|\n",
            "|METLIFE BANK, NATIONAL ASSOCIATION                  |1.3139872E7|165678    |0.352|2009|\n",
            "+----------------------------------------------------+-----------+----------+-----+----+\n",
            "\n"
          ]
        }
      ]
    },
    {
      "cell_type": "markdown",
      "source": [
        "The banks that have low LDR make have diversified incomes and are not exposed to as much credit risk during tumultous economic conditions.\n",
        "\n",
        "Filtered RCON2200 (deposits) because there were some weird rows that said a BofA had 500,000 in deposits but made hundreds of millions in net income\n"
      ],
      "metadata": {
        "id": "M_M-JnU3n8t5"
      }
    },
    {
      "cell_type": "markdown",
      "source": [
        "###Average loan to deposit ratio for each year\n"
      ],
      "metadata": {
        "id": "RVTlRtKDe33y"
      }
    },
    {
      "cell_type": "code",
      "source": [
        "query = '''SELECT  ROUND(AVG(RCONB528/RCON2200),3) AS LDR, INT(AVG(RIAD4340)) AS avg_net_income, Year, ROUND(AVG(FEDFUNDS),3) AS Fed_Funds_Rate FROM Bank_Data GROUP BY Year ORDER BY Year ASC'''\n",
        "spark.sql(query).show()\n"
      ],
      "metadata": {
        "colab": {
          "base_uri": "https://localhost:8080/"
        },
        "id": "TADTstibQriX",
        "outputId": "907dc6ba-91c4-416c-e4ad-e21cdea6d773"
      },
      "execution_count": null,
      "outputs": [
        {
          "output_type": "stream",
          "name": "stdout",
          "text": [
            "+------+--------------+----+--------------+\n",
            "|   LDR|avg_net_income|Year|Fed_Funds_Rate|\n",
            "+------+--------------+----+--------------+\n",
            "| 4.438|          5593|2001|         2.929|\n",
            "| 4.885|          6879|2002|         1.547|\n",
            "| 5.592|          7913|2003|         1.066|\n",
            "| 7.121|          8305|2004|         1.713|\n",
            "|10.025|          9152|2005|         3.708|\n",
            "| 9.078|         10329|2006|         5.164|\n",
            "|16.046|          9248|2007|         4.503|\n",
            "|18.085|          3418|2008|         1.186|\n",
            "|22.745|         -1446|2009|         0.148|\n",
            "|14.645|          6751|2010|         0.181|\n",
            "| 3.601|         10396|2011|         0.088|\n",
            "| 1.065|         12178|2012|          0.15|\n",
            "| 1.103|         13932|2013|          0.09|\n",
            "| 1.142|         14357|2014|         0.098|\n",
            "| 0.897|         16122|2015|         0.194|\n",
            "| 0.778|         17323|2016|         0.478|\n",
            "| 0.787|         18960|2017|         1.186|\n",
            "| 0.802|         26455|2018|         2.067|\n",
            "| 0.802|         28139|2019|         1.878|\n",
            "| 0.769|         14356|2020|         0.081|\n",
            "+------+--------------+----+--------------+\n",
            "only showing top 20 rows\n",
            "\n"
          ]
        }
      ]
    },
    {
      "cell_type": "markdown",
      "source": [
        "It appears that LDR is weakly and negatively correlated with net income."
      ],
      "metadata": {
        "id": "VKVILF65oEcm"
      }
    },
    {
      "cell_type": "markdown",
      "source": [
        "###How interest rates impact credit creation"
      ],
      "metadata": {
        "id": "eAtEAB9de-c3"
      }
    },
    {
      "cell_type": "code",
      "source": [
        "query_loans = ''' SELECT year, SUM(RCONB528) as total_loans, round(AVG(FEDFUNDS),3) as avg_fed_funds_rate FROM bank_data GROUP BY year ORDER BY year'''\n",
        "spark.sql(query_loans).show(22)\n"
      ],
      "metadata": {
        "id": "j80VHxlVoFA2",
        "colab": {
          "base_uri": "https://localhost:8080/"
        },
        "outputId": "3341f6ff-4ea5-4886-9e54-c568e5bfbbf0"
      },
      "execution_count": null,
      "outputs": [
        {
          "output_type": "stream",
          "name": "stdout",
          "text": [
            "+----+---------------+------------------+\n",
            "|year|    total_loans|avg_fed_funds_rate|\n",
            "+----+---------------+------------------+\n",
            "|2001|  5.955839355E9|             2.929|\n",
            "|2002|  6.381475596E9|             1.547|\n",
            "|2003|    6.8725767E9|             1.066|\n",
            "|2004|  7.434291197E9|             1.713|\n",
            "|2005|  7.930288718E9|             3.708|\n",
            "|2006|   8.24454402E9|             5.164|\n",
            "|2007|  8.194820532E9|             4.503|\n",
            "|2008|  8.417244138E9|             1.186|\n",
            "|2009|   8.29419052E9|             0.148|\n",
            "|2010|  8.108985769E9|             0.181|\n",
            "|2011|  7.701371207E9|             0.088|\n",
            "|2012|  9.814829788E9|              0.15|\n",
            "|2013|1.0195051274E10|              0.09|\n",
            "|2014|1.0928933308E10|             0.098|\n",
            "|2015|1.1828437138E10|             0.194|\n",
            "|2016|1.3188311444E10|             0.478|\n",
            "|2017|1.5154424105E10|             1.186|\n",
            "|2018|1.4442722103E10|             2.067|\n",
            "|2019|1.4674888031E10|             1.878|\n",
            "|2020| 1.518062099E10|             0.081|\n",
            "|2021|1.5173099198E10|              0.09|\n",
            "|2022| 1.589337637E10|             2.773|\n",
            "+----+---------------+------------------+\n",
            "\n"
          ]
        }
      ]
    },
    {
      "cell_type": "markdown",
      "source": [
        "When fed funds shoots up in 05-06 there is lag effect, but 2006-2011, slow/negative credit creation.\n",
        "\n",
        "During steady/dropping rates, credit creation is fast: 01-05.\n",
        "Post GFC bottoms in 2011, then doubles by 2020. Small rate hikes in 15-18 don't seem to impact credit growth much."
      ],
      "metadata": {
        "id": "U8FX7aYHmiLE"
      }
    },
    {
      "cell_type": "code",
      "source": [],
      "metadata": {
        "id": "VvUuh-AvoaoA"
      },
      "execution_count": null,
      "outputs": []
    }
  ]
}